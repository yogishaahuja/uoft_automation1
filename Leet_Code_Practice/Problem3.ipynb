{
 "cells": [
  {
   "cell_type": "code",
   "execution_count": 7,
   "metadata": {},
   "outputs": [
    {
     "name": "stdout",
     "output_type": "stream",
     "text": [
      "chclt"
     ]
    }
   ],
   "source": [
    "# Return vowels from a string\n",
    "str_1 = input(\"enter your string: \")\n",
    "x = \"\"\n",
    "for i in range(0,len(str_1)):\n",
    "    if str_1[i] == 'a':\n",
    "        x = str_1.replace('a',\"\")\n",
    "    elif str_1[i] == 'e':\n",
    "         x = str_1.replace('e',\"\")\n",
    "    elif str_1[i] == 'i':\n",
    "         x = str_1.replace('i',\"\")\n",
    "    elif str_1[i] == 'o':\n",
    "         x = str_1.replace('o',\"\")\n",
    "    elif str_1[i] == 'u':\n",
    "         x = str_1.replace('u',\"\")\n",
    "    else:\n",
    "         print(str_1[i],end=\"\")"
   ]
  }
 ],
 "metadata": {
  "kernelspec": {
   "display_name": "Python 3",
   "language": "python",
   "name": "python3"
  },
  "language_info": {
   "codemirror_mode": {
    "name": "ipython",
    "version": 3
   },
   "file_extension": ".py",
   "mimetype": "text/x-python",
   "name": "python",
   "nbconvert_exporter": "python",
   "pygments_lexer": "ipython3",
   "version": "3.10.4"
  }
 },
 "nbformat": 4,
 "nbformat_minor": 2
}
