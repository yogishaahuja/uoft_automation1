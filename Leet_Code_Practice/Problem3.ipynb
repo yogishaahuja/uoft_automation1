{
 "cells": [
  {
   "cell_type": "code",
   "execution_count": 1,
   "metadata": {},
   "outputs": [
    {
     "name": "stdout",
     "output_type": "stream",
     "text": [
      "chocolate\n",
      "chocolate\n"
     ]
    },
    {
     "ename": "AttributeError",
     "evalue": "'str' object has no attribute 'remove'",
     "output_type": "error",
     "traceback": [
      "\u001b[0;31m---------------------------------------------------------------------------\u001b[0m",
      "\u001b[0;31mAttributeError\u001b[0m                            Traceback (most recent call last)",
      "Cell \u001b[0;32mIn[1], line 11\u001b[0m\n\u001b[1;32m      9\u001b[0m     str_1\u001b[38;5;241m.\u001b[39mremove(element)\n\u001b[1;32m     10\u001b[0m \u001b[38;5;28;01melif\u001b[39;00m element \u001b[38;5;241m==\u001b[39m \u001b[38;5;124m'\u001b[39m\u001b[38;5;124mo\u001b[39m\u001b[38;5;124m'\u001b[39m:\n\u001b[0;32m---> 11\u001b[0m     \u001b[43mstr_1\u001b[49m\u001b[38;5;241;43m.\u001b[39;49m\u001b[43mremove\u001b[49m(element)\n\u001b[1;32m     12\u001b[0m \u001b[38;5;28;01melif\u001b[39;00m element \u001b[38;5;241m==\u001b[39m \u001b[38;5;124m'\u001b[39m\u001b[38;5;124mu\u001b[39m\u001b[38;5;124m'\u001b[39m:\n\u001b[1;32m     13\u001b[0m     str_1\u001b[38;5;241m.\u001b[39mremove(element)\n",
      "\u001b[0;31mAttributeError\u001b[0m: 'str' object has no attribute 'remove'"
     ]
    }
   ],
   "source": [
    "# Return vowels from a string\n",
    "str_1 = input(\"enter your string: \")\n",
    "for element in str_1:\n",
    "    if element == 'a':\n",
    "        str_1.replace(element,\"\")\n",
    "    elif element == 'e':\n",
    "        str_1.replace(element,\"\")\n",
    "    elif element == 'i':\n",
    "        str_1.replace(element,\"\")\n",
    "    elif element == 'o':\n",
    "        str_1.replace(element,\"\")\n",
    "    elif element == 'u':\n",
    "        str_1.replace(element,\"\")\n",
    "    elif element == \" \":\n",
    "        print(\"no string was entered\")\n",
    "    else:\n",
    "        print(str_1)\n",
    "    "
   ]
  }
 ],
 "metadata": {
  "kernelspec": {
   "display_name": "Python 3",
   "language": "python",
   "name": "python3"
  },
  "language_info": {
   "codemirror_mode": {
    "name": "ipython",
    "version": 3
   },
   "file_extension": ".py",
   "mimetype": "text/x-python",
   "name": "python",
   "nbconvert_exporter": "python",
   "pygments_lexer": "ipython3",
   "version": "3.10.4"
  }
 },
 "nbformat": 4,
 "nbformat_minor": 2
}
