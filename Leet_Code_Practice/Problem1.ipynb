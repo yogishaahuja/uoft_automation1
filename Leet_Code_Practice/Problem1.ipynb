{
 "cells": [
  {
   "cell_type": "code",
   "execution_count": null,
   "metadata": {},
   "outputs": [],
   "source": [
    "# Problem Statement:\n",
    "# Write a function that reverses a string. The input string is given as an array of characters s."
   ]
  },
  {
   "cell_type": "code",
   "execution_count": 36,
   "metadata": {},
   "outputs": [
    {
     "name": "stdout",
     "output_type": "stream",
     "text": [
      "h \n"
     ]
    }
   ],
   "source": [
    "\n",
    "def reverseString(s):\n",
    "    str = \" \"\n",
    "    for i in s:\n",
    "        str = i + str\n",
    "        return str\n",
    "print(reverseString(s))\n",
    "s = input(\"Enter your string: \")\n",
    "            "
   ]
  }
 ],
 "metadata": {
  "kernelspec": {
   "display_name": "Python 3",
   "language": "python",
   "name": "python3"
  },
  "language_info": {
   "codemirror_mode": {
    "name": "ipython",
    "version": 3
   },
   "file_extension": ".py",
   "mimetype": "text/x-python",
   "name": "python",
   "nbconvert_exporter": "python",
   "pygments_lexer": "ipython3",
   "version": "3.10.4"
  }
 },
 "nbformat": 4,
 "nbformat_minor": 2
}
