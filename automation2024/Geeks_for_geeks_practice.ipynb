{
 "cells": [
  {
   "cell_type": "code",
   "execution_count": 2,
   "metadata": {},
   "outputs": [],
   "source": [
    "# Sorting Dictionary By Key\n",
    "myDict = {'ravi': 10, 'rajnish': 9,\n",
    "        'sanjeev': 15, 'yash': 2, 'suraj': 32}"
   ]
  },
  {
   "cell_type": "code",
   "execution_count": 12,
   "metadata": {},
   "outputs": [
    {
     "name": "stdout",
     "output_type": "stream",
     "text": [
      "{'rajnish': 9, 'ravi': 10, 'sanjeev': 15, 'suraj': 32, 'yash': 2}\n"
     ]
    }
   ],
   "source": [
    "a = myDict.keys()\n",
    "b = list(a)\n",
    "b.sort()\n",
    "sorted_dict = {i: myDict[i] for i in b}\n",
    "print(sorted_dict)\n"
   ]
  },
  {
   "cell_type": "code",
   "execution_count": 18,
   "metadata": {},
   "outputs": [
    {
     "data": {
      "text/plain": [
       "{'a': 1, 'b': 2, 'c': 3, 'd': 4}"
      ]
     },
     "execution_count": 18,
     "metadata": {},
     "output_type": "execute_result"
    }
   ],
   "source": [
    "# Creating dictionary in Python\n",
    "__setitem__ = {'a':1,'b':2,'c':3,'d':4}\n",
    "dict_1 = __setitem__\n",
    "dict_1"
   ]
  },
  {
   "cell_type": "code",
   "execution_count": 39,
   "metadata": {},
   "outputs": [],
   "source": [
    "X = int(input(\"Enter the no of shoes in stock: \"))\n",
    "amount_earned = 0\n",
    "shoe_sizes = []\n",
    "i =2\n",
    "for i in range(2,21):\n",
    "    shoe_sizes.append(i)\n",
    "N = int(input(\"Enter the number of customers: \"))\n",
    "shoe_size_with_price_list = {6:55,8:90,7:85}\n",
    "for keys,values in shoe_size_with_price_list.items():\n",
    "    if shoe_sizes in shoe_size_with_price_list.keys():\n",
    "        amount = shoe_size_with_price_list.get(values)\n",
    "        amount = list(amount)\n",
    "        for i in list(amount):\n",
    "            amount_earned += list[i]\n",
    "        print(\"Raghu earned\",amount_earned)\n",
    "\n"
   ]
  },
  {
   "cell_type": "code",
   "execution_count": 23,
   "metadata": {},
   "outputs": [
    {
     "name": "stdout",
     "output_type": "stream",
     "text": [
      "['6', '4', '18', '10']\n"
     ]
    }
   ],
   "source": [
    "\n",
    "X = int(input(\"Enter no of shoes: \"))\n",
    "shoe_size_List = [2, 3, 4, 5, 6, 8, 7, 6, 5, 18]\n",
    "N = int(input(\"Enter no of customers: \"))\n",
    "Customer_order = {'6':'55','4':'40','18':'60','10':'50'}\n",
    "desired_shoe_size = list(Customer_order.keys())\n",
    "print(desired_shoe_size)\n",
    "for i in range(len(desired_shoe_size)):\n",
    "    if desired_shoe_size in shoe_size_List:\n",
    "        price_list = Customer_order.get(i)\n",
    "        print(price_list)\n",
    "    \n"
   ]
  }
 ],
 "metadata": {
  "kernelspec": {
   "display_name": "Python 3",
   "language": "python",
   "name": "python3"
  },
  "language_info": {
   "codemirror_mode": {
    "name": "ipython",
    "version": 3
   },
   "file_extension": ".py",
   "mimetype": "text/x-python",
   "name": "python",
   "nbconvert_exporter": "python",
   "pygments_lexer": "ipython3",
   "version": "3.10.4"
  }
 },
 "nbformat": 4,
 "nbformat_minor": 2
}
