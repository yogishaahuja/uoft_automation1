{
 "cells": [
  {
   "cell_type": "code",
   "execution_count": 2,
   "metadata": {},
   "outputs": [
    {
     "name": "stdout",
     "output_type": "stream",
     "text": [
      "My name is Charlie \n",
      "I joined in 2023 \n",
      "My email is charlie.ahuja@gmail.com \n",
      "My department is information analytics \n",
      "My manager is Sondhi \n",
      "My salary is 50000 dollars \n",
      "I have access to   instagram \n"
     ]
    }
   ],
   "source": [
    "class Employee:\n",
    "    def __init__(self, name,year,email,department,manager,salary,software):\n",
    "        self.name = name\n",
    "        self.year = year\n",
    "        self.email = email\n",
    "        self.department = department\n",
    "        self.manager = manager\n",
    "        self.salary = salary\n",
    "        self.software = software\n",
    "        \n",
    "\n",
    "    def speak(self):\n",
    "        return \"My name is \" f\"{self.name} \"\n",
    "    def onboarding(self):\n",
    "        return \"I joined in \" f\"{self.year} \"\n",
    "    def assigned_email(self):\n",
    "        return \"My email is \" f\"{self.email} \"\n",
    "    def assigned_department(self):\n",
    "        return \"My department is \" f\"{self.department} \"\n",
    "    def assigned_manager(self):\n",
    "        return \"My manager is \" f\"{self.manager} \"\n",
    "    def current_salary(self):\n",
    "        return \"My salary is \" f\"{self.salary} \"\n",
    "    def software_access(self):\n",
    "        return \"I have access to   \" f\"{self.software} \"\n",
    "\n",
    "\n",
    "employee1 = Employee(\"Charlie\",\"2023\",\"charlie.ahuja@gmail.com\",\"information analytics\",\"Sondhi\",\"50000 dollars\",\"instagram\")\n",
    "print(employee1.speak())\n",
    "print(employee1.onboarding())\n",
    "print(employee1.assigned_email())\n",
    "print(employee1.assigned_department())\n",
    "print(employee1.assigned_manager())\n",
    "print(employee1.current_salary())\n",
    "print(employee1.software_access())"
   ]
  }
 ],
 "metadata": {
  "kernelspec": {
   "display_name": "Python 3",
   "language": "python",
   "name": "python3"
  },
  "language_info": {
   "codemirror_mode": {
    "name": "ipython",
    "version": 3
   },
   "file_extension": ".py",
   "mimetype": "text/x-python",
   "name": "python",
   "nbconvert_exporter": "python",
   "pygments_lexer": "ipython3",
   "version": "3.10.4"
  }
 },
 "nbformat": 4,
 "nbformat_minor": 2
}
