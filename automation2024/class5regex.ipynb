{
 "cells": [
  {
   "cell_type": "code",
   "execution_count": null,
   "metadata": {},
   "outputs": [],
   "source": [
    "# https://www.rexegg.com/regex-quickstart.html"
   ]
  },
  {
   "cell_type": "code",
   "execution_count": 1,
   "metadata": {},
   "outputs": [],
   "source": [
    "import re"
   ]
  },
  {
   "cell_type": "code",
   "execution_count": 2,
   "metadata": {},
   "outputs": [],
   "source": [
    "PhoneNumber = \"416-123-4567\"\n",
    "Email = \"person@email.com\"\n",
    "ProductCode = \"Prod_123AB_12\""
   ]
  },
  {
   "cell_type": "code",
   "execution_count": 3,
   "metadata": {},
   "outputs": [],
   "source": [
    "# pattern matching\n",
    "\n",
    "phone_pattern = r\"^\\d{3}-\\d{3}-\\d{4}$\""
   ]
  },
  {
   "cell_type": "code",
   "execution_count": 8,
   "metadata": {},
   "outputs": [],
   "source": [
    "list_of_phones = ['416-225-9876','647-669-6729','000000','12344556']"
   ]
  },
  {
   "cell_type": "code",
   "execution_count": 9,
   "metadata": {},
   "outputs": [],
   "source": [
    "valid_phones = [phone for phone in list_of_phones if re.match(phone_pattern,phone)]"
   ]
  },
  {
   "cell_type": "code",
   "execution_count": 10,
   "metadata": {},
   "outputs": [],
   "source": [
    "valid_phones2 = []\n",
    "\n",
    "for i in list_of_phones:\n",
    "    if re.match(phone_pattern,i):\n",
    "        valid_phones2.append(i)"
   ]
  },
  {
   "cell_type": "code",
   "execution_count": 11,
   "metadata": {},
   "outputs": [
    {
     "name": "stdout",
     "output_type": "stream",
     "text": [
      "['14/02/2024', '01/01/2023', '05/31/2022']\n"
     ]
    }
   ],
   "source": [
    "text = \"Important dates include 14/02/2024, 01/01/2023 and 05/31/2022.\"\n",
    "\n",
    "date_pattern = r\"\\b\\d{2}/\\d{2}/\\d{4}\\b\"\n",
    "dates = re.findall(date_pattern, text)\n",
    "print(dates)"
   ]
  },
  {
   "cell_type": "code",
   "execution_count": 12,
   "metadata": {},
   "outputs": [
    {
     "name": "stdout",
     "output_type": "stream",
     "text": [
      "Java is easy to learn. I enjoy learning Java\n"
     ]
    }
   ],
   "source": [
    "text = \"Python is easy to learn. I enjoy learning Python\"\n",
    "replaced_text = re.sub(r\"Python\",\"Java\", text)\n",
    "print(replaced_text)"
   ]
  },
  {
   "cell_type": "code",
   "execution_count": 14,
   "metadata": {},
   "outputs": [],
   "source": [
    "password_strength = r\"^(?=.*[a-z])(?=.*[A-Z])(?=.*\\d)[A-Za-z\\d]{8,}$\""
   ]
  },
  {
   "cell_type": "code",
   "execution_count": 15,
   "metadata": {},
   "outputs": [],
   "source": [
    "passwords = ['Password1','pssw','StrongPassword123']"
   ]
  },
  {
   "cell_type": "code",
   "execution_count": 16,
   "metadata": {},
   "outputs": [
    {
     "name": "stdout",
     "output_type": "stream",
     "text": [
      "Password1 is strong\n",
      "pssw is weak\n",
      "StrongPassword123 is strong\n"
     ]
    }
   ],
   "source": [
    "for i in passwords:\n",
    "    if re.match(password_strength,i):\n",
    "        print(f\"{i} is strong\")\n",
    "    else:\n",
    "        print(f\"{i} is weak\")"
   ]
  },
  {
   "cell_type": "markdown",
   "metadata": {},
   "source": [
    "Unit Testing"
   ]
  },
  {
   "cell_type": "code",
   "execution_count": 17,
   "metadata": {},
   "outputs": [],
   "source": [
    "def add(a,b):\n",
    "    return a + b"
   ]
  },
  {
   "cell_type": "code",
   "execution_count": 18,
   "metadata": {},
   "outputs": [],
   "source": [
    "add(3,5)\n",
    "assert add(2,3) == 5"
   ]
  },
  {
   "cell_type": "code",
   "execution_count": 21,
   "metadata": {},
   "outputs": [],
   "source": [
    "def complicated_function(a):\n",
    "    if a > 5:\n",
    "        if a < 100:\n",
    "            return a*200\n",
    "        else:\n",
    "            return a/3"
   ]
  },
  {
   "cell_type": "code",
   "execution_count": 22,
   "metadata": {},
   "outputs": [],
   "source": [
    "assert complicated_function(50) == 10000\n"
   ]
  }
 ],
 "metadata": {
  "kernelspec": {
   "display_name": "Python 3",
   "language": "python",
   "name": "python3"
  },
  "language_info": {
   "codemirror_mode": {
    "name": "ipython",
    "version": 3
   },
   "file_extension": ".py",
   "mimetype": "text/x-python",
   "name": "python",
   "nbconvert_exporter": "python",
   "pygments_lexer": "ipython3",
   "version": "3.10.4"
  }
 },
 "nbformat": 4,
 "nbformat_minor": 2
}
