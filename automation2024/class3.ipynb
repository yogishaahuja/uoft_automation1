{
 "cells": [
  {
   "cell_type": "code",
   "execution_count": null,
   "metadata": {},
   "outputs": [],
   "source": [
    "# Agenda for today:\n",
    "# Dictionaries and dictionary manipulation\n",
    "# conditional programming\n",
    "# defining custom functions\n",
    "# manipulation of data files with python open/read/write : without any external libraries"
   ]
  },
  {
   "cell_type": "markdown",
   "metadata": {},
   "source": [
    "Dictionaries"
   ]
  },
  {
   "cell_type": "code",
   "execution_count": 1,
   "metadata": {},
   "outputs": [],
   "source": [
    "# key - value pairs\n",
    "dict1 = {\"ON\":\"Toronto\", \"MB\":\"Winnipeg\", \"SK\":\"Regina\", \"BC\":\"Victoria\", \"QB\":\"Quebec City\"}"
   ]
  },
  {
   "cell_type": "code",
   "execution_count": 2,
   "metadata": {},
   "outputs": [],
   "source": [
    "purchases = {\"Adam\":[\"shoes\", \"book\", \"shirt\"], \"Mary\":[\"book\", 'shampoo'], \"Joe\":[\"book\", \"shirt\", 'coat', 'shoes','kindle','etc']}"
   ]
  },
  {
   "cell_type": "code",
   "execution_count": 16,
   "metadata": {},
   "outputs": [],
   "source": [
    "purchases_nested = {\"Customer_Orders\":\n",
    "                    {\"Adam\":[\"shoes\", \"book\", \"shirt\"],\n",
    "                      \"Mary\":[\"book\", 'shampoo'], \n",
    "                      \"Joe\":[\"book\", \"shirt\", 'coat', 'shoes','kindle','etc']},\n",
    "                    \"Delivery_Schedule\":{\"Adam\":\"Monday\", \"Mary\":\"Tuesday\",'Joe':'Wednesday'}}"
   ]
  },
  {
   "cell_type": "code",
   "execution_count": 3,
   "metadata": {},
   "outputs": [
    {
     "data": {
      "text/plain": [
       "dict_items([('ON', 'Toronto'), ('MB', 'Winnipeg'), ('SK', 'Regina'), ('BC', 'Victoria'), ('QB', 'Quebec City')])"
      ]
     },
     "execution_count": 3,
     "metadata": {},
     "output_type": "execute_result"
    }
   ],
   "source": [
    "# returns all the combinations of key value pairs\n",
    "dict1.items()"
   ]
  },
  {
   "cell_type": "code",
   "execution_count": 4,
   "metadata": {},
   "outputs": [
    {
     "data": {
      "text/plain": [
       "dict_values(['Toronto', 'Winnipeg', 'Regina', 'Victoria', 'Quebec City'])"
      ]
     },
     "execution_count": 4,
     "metadata": {},
     "output_type": "execute_result"
    }
   ],
   "source": [
    "# return all the values of the dictionary\n",
    "dict1.values()"
   ]
  },
  {
   "cell_type": "code",
   "execution_count": 5,
   "metadata": {},
   "outputs": [],
   "source": [
    "# the square bracked immediately beside the object name is used for Item Assignment in dictionaries\n",
    "dict1[\"PEI\"] = \"Charlottetown\""
   ]
  },
  {
   "cell_type": "code",
   "execution_count": 6,
   "metadata": {},
   "outputs": [
    {
     "data": {
      "text/plain": [
       "{'ON': 'Toronto',\n",
       " 'MB': 'Winnipeg',\n",
       " 'SK': 'Regina',\n",
       " 'BC': 'Victoria',\n",
       " 'QB': 'Quebec City',\n",
       " 'PEI': 'Charlottetown'}"
      ]
     },
     "execution_count": 6,
     "metadata": {},
     "output_type": "execute_result"
    }
   ],
   "source": [
    "dict1"
   ]
  },
  {
   "cell_type": "code",
   "execution_count": 7,
   "metadata": {},
   "outputs": [
    {
     "data": {
      "text/plain": [
       "'Toronto'"
      ]
     },
     "execution_count": 7,
     "metadata": {},
     "output_type": "execute_result"
    }
   ],
   "source": [
    "# if you reference an existing key in the square brackets, the code will return the corresponding value\n",
    "dict1[\"ON\"]"
   ]
  },
  {
   "cell_type": "code",
   "execution_count": 12,
   "metadata": {},
   "outputs": [],
   "source": [
    "# Add a new customer and their purchases to the purchases dictionary\n",
    "purchases_nested[\"Bob\"] = [\"lipstick\",\"eyeliner\"] "
   ]
  },
  {
   "cell_type": "code",
   "execution_count": 13,
   "metadata": {},
   "outputs": [
    {
     "data": {
      "text/plain": [
       "{'Customer_Orders': {'Adam': ['shoes', 'book', 'shirt'],\n",
       "  'Mary': ['book', 'shampoo'],\n",
       "  'Joe': ['book', 'shirt', 'coat', 'shoes', 'kindle', 'etc']},\n",
       " 'Delivery_Schedule': {'Adam': 'Monday',\n",
       "  'Mary': 'Tuesday',\n",
       "  'Joe': 'Wednesday'},\n",
       " 'Bob': ['lipstick', 'eyeliner']}"
      ]
     },
     "execution_count": 13,
     "metadata": {},
     "output_type": "execute_result"
    }
   ],
   "source": [
    "purchases_nested"
   ]
  },
  {
   "cell_type": "code",
   "execution_count": 14,
   "metadata": {},
   "outputs": [
    {
     "data": {
      "text/plain": [
       "['shoes', 'book', 'shirt']"
      ]
     },
     "execution_count": 14,
     "metadata": {},
     "output_type": "execute_result"
    }
   ],
   "source": [
    "# with a nested dictionary, we need TWO levels of slicing\n",
    "purchases_nested['Customer_Orders'][\"Adam\"]"
   ]
  },
  {
   "cell_type": "code",
   "execution_count": 20,
   "metadata": {},
   "outputs": [],
   "source": [
    "# in the nested purchases dictionary, how can we add a new customer order? hint: remember that we also have to add the delivery date\n",
    "purchases_nested['Customer_Orders']['Yogisha'] = ['pen','pencil']\n",
    "purchases_nested['Delivery_Schedule']['Yogisha'] = ['Saturday']"
   ]
  },
  {
   "cell_type": "code",
   "execution_count": 21,
   "metadata": {},
   "outputs": [
    {
     "data": {
      "text/plain": [
       "{'Customer_Orders': {'Adam': ['shoes', 'book', 'shirt'],\n",
       "  'Mary': ['book', 'shampoo'],\n",
       "  'Joe': ['book', 'shirt', 'coat', 'shoes', 'kindle', 'etc'],\n",
       "  'Yogisha': ['pen', 'pencil']},\n",
       " 'Delivery_Schedule': {'Adam': 'Monday',\n",
       "  'Mary': 'Tuesday',\n",
       "  'Joe': 'Wednesday',\n",
       "  'Yogisha': ['Saturday']}}"
      ]
     },
     "execution_count": 21,
     "metadata": {},
     "output_type": "execute_result"
    }
   ],
   "source": [
    "purchases_nested"
   ]
  },
  {
   "cell_type": "markdown",
   "metadata": {},
   "source": [
    "Looping through data"
   ]
  },
  {
   "cell_type": "code",
   "execution_count": 22,
   "metadata": {},
   "outputs": [],
   "source": [
    "# Iteration means that we are mechanically isolating each value one by one and making a change to the value\n",
    "customer_purchase_amounts = [100.50, 48.67, 34.78, 51.90, 56.98, 34.23]"
   ]
  },
  {
   "cell_type": "code",
   "execution_count": 23,
   "metadata": {},
   "outputs": [],
   "source": [
    "# Let's say we want to round each value, a manual solution requires a lot of human intervention\n",
    "customer_purchase_amounts[0] = round(100.50)\n",
    "customer_purchase_amounts[1] = round(48.67)\n",
    "customer_purchase_amounts[2] = round(34.78)\n",
    "customer_purchase_amounts[3] = round(51.90)\n",
    "customer_purchase_amounts[4] = round(56.98)\n",
    "customer_purchase_amounts[5] = round(34.23)"
   ]
  },
  {
   "cell_type": "code",
   "execution_count": 24,
   "metadata": {},
   "outputs": [
    {
     "name": "stdout",
     "output_type": "stream",
     "text": [
      "100\n",
      "49\n",
      "35\n",
      "52\n",
      "57\n",
      "34\n"
     ]
    }
   ],
   "source": [
    "# the logic says \"for each item in the iterable object, take some action\"\n",
    "for item in customer_purchase_amounts:\n",
    "    print(round(item))"
   ]
  },
  {
   "cell_type": "code",
   "execution_count": 25,
   "metadata": {},
   "outputs": [],
   "source": [
    "rounded_values = []\n",
    "for i in customer_purchase_amounts:\n",
    "    rounded_values.append(round(i))"
   ]
  },
  {
   "cell_type": "code",
   "execution_count": 30,
   "metadata": {},
   "outputs": [],
   "source": [
    "customer_purchase_amounts = [100.50, 48.67, 34.78, 51.90, 56.98, 34.23]\n",
    "for i in range(0,len(customer_purchase_amounts)):\n",
    "    customer_purchase_amounts[i] = round(customer_purchase_amounts[i])"
   ]
  },
  {
   "cell_type": "code",
   "execution_count": 31,
   "metadata": {},
   "outputs": [
    {
     "data": {
      "text/plain": [
       "[100, 49, 35, 52, 57, 34]"
      ]
     },
     "execution_count": 31,
     "metadata": {},
     "output_type": "execute_result"
    }
   ],
   "source": [
    "customer_purchase_amounts"
   ]
  },
  {
   "cell_type": "code",
   "execution_count": 32,
   "metadata": {},
   "outputs": [
    {
     "data": {
      "text/plain": [
       "[100, 49, 35, 52, 57, 34]"
      ]
     },
     "execution_count": 32,
     "metadata": {},
     "output_type": "execute_result"
    }
   ],
   "source": [
    "customer_purchase_amounts = [100.50, 48.67, 34.78, 51.90, 56.98, 34.23]\n",
    "\n",
    "for i in customer_purchase_amounts:\n",
    "    customer_purchase_amounts[customer_purchase_amounts.index(i)] = round(i)\n",
    "\n",
    "customer_purchase_amounts"
   ]
  },
  {
   "cell_type": "code",
   "execution_count": 33,
   "metadata": {},
   "outputs": [
    {
     "data": {
      "text/plain": [
       "[2, 4, 6, 8, 10]"
      ]
     },
     "execution_count": 33,
     "metadata": {},
     "output_type": "execute_result"
    }
   ],
   "source": [
    "# looping through a tuple, is very similar to a list\n",
    "tuple1 = (1,2,3,4,5)\n",
    "list1 = []\n",
    "for i in tuple1:\n",
    "    list1.append(i*2)\n",
    "\n",
    "list1"
   ]
  },
  {
   "cell_type": "code",
   "execution_count": 34,
   "metadata": {},
   "outputs": [
    {
     "name": "stdout",
     "output_type": "stream",
     "text": [
      "ON\n",
      "MB\n",
      "SK\n",
      "BC\n",
      "QB\n",
      "PEI\n"
     ]
    }
   ],
   "source": [
    "# looping through dictionaries\n",
    "# the simple loop notation will ONLY return the KEYS of the dictionary, not the values\n",
    "for i in dict1:\n",
    "    print(i)"
   ]
  },
  {
   "cell_type": "code",
   "execution_count": 35,
   "metadata": {},
   "outputs": [
    {
     "name": "stdout",
     "output_type": "stream",
     "text": [
      "('ON', 'Toronto')\n",
      "('MB', 'Winnipeg')\n",
      "('SK', 'Regina')\n",
      "('BC', 'Victoria')\n",
      "('QB', 'Quebec City')\n",
      "('PEI', 'Charlottetown')\n"
     ]
    }
   ],
   "source": [
    "# to return both the keys and values, we need to loop through the dict1.items() attribute\n",
    "for i in dict1.items():\n",
    "    print(i)"
   ]
  },
  {
   "cell_type": "code",
   "execution_count": 36,
   "metadata": {},
   "outputs": [
    {
     "name": "stdout",
     "output_type": "stream",
     "text": [
      "on Toronto\n",
      "mb Winnipeg\n",
      "sk Regina\n",
      "bc Victoria\n",
      "qb Quebec City\n",
      "pei Charlottetown\n"
     ]
    }
   ],
   "source": [
    "# to change a value in one of the tuples, we first need to convert it to a list\n",
    "for i in dict1.items():\n",
    "    list(i) # convert the tuples to a list format\n",
    "    list(i)[0] # isolate the first position\n",
    "    print(list(i)[0].lower(), list(i)[1])"
   ]
  },
  {
   "cell_type": "code",
   "execution_count": 37,
   "metadata": {},
   "outputs": [
    {
     "name": "stdout",
     "output_type": "stream",
     "text": [
      "('on', 'Toronto')\n",
      "('mb', 'Winnipeg')\n",
      "('sk', 'Regina')\n",
      "('bc', 'Victoria')\n",
      "('qb', 'Quebec City')\n",
      "('pei', 'Charlottetown')\n"
     ]
    }
   ],
   "source": [
    "# to change a value in one of the tuples, we first need to convert it to a list\n",
    "for i in dict1.items():\n",
    "    list(i) # convert the tuples to a list format\n",
    "    list(i)[0] # isolate the first position\n",
    "    print(tuple([list(i)[0].lower(), list(i)[1]]))"
   ]
  },
  {
   "cell_type": "code",
   "execution_count": 48,
   "metadata": {},
   "outputs": [],
   "source": [
    "dict1 = {\"ON\":\"Toronto\", \"MB\":\"Winnipeg\", \"SK\":\"Regina\", \"BC\":\"Victoria\", \"QB\":\"Quebec City”, “PEI”: ”Charlottetown\"}"
   ]
  },
  {
   "cell_type": "code",
   "execution_count": 51,
   "metadata": {},
   "outputs": [],
   "source": [
    "cities = [[\"Toronto\",\"Ottawa\"], [\"Winnipeg\", \"Churchill\"], [\"Regina\", \"Saskatoon\"]\n",
    "          , [\"Victoria\", \"Vancouver\"], ['Quebec City', \"Montreal\"], ['Charlottetown','Cornwall']]"
   ]
  },
  {
   "cell_type": "code",
   "execution_count": 52,
   "metadata": {},
   "outputs": [
    {
     "name": "stdout",
     "output_type": "stream",
     "text": [
      "{'ON': ['Toronto', 'Ottawa'], 'MB': ['Winnipeg', 'Churchill'], 'SK': ['Regina', 'Saskatoon'], 'BC': ['Victoria', 'Vancouver'], 'QB': 'Quebec City”, “PEI”: ”Charlottetown'}\n"
     ]
    }
   ],
   "source": [
    "\n",
    "for a,b in dict1.items():\n",
    "    for i in cities:\n",
    "        if b in i:\n",
    "            dict1[a] = i\n",
    "print(dict1)\n",
    "    \n",
    "    \n",
    "    \n",
    "    \n",
    "\n",
    "    "
   ]
  },
  {
   "cell_type": "code",
   "execution_count": 53,
   "metadata": {},
   "outputs": [
    {
     "name": "stdout",
     "output_type": "stream",
     "text": [
      "{'ON': ['Toronto', 'Ottawa'], 'MB': ['Winnipeg', 'Churchill'], 'SK': ['Regina', 'Saskatoon'], 'BC': ['Victoria', 'Vancouver'], 'QB': 'Quebec City”, “PEI”: ”Charlottetown'}\n"
     ]
    }
   ],
   "source": [
    "for province,capital in dict1.items():\n",
    "       for each_combo in cities:\n",
    "              if capital in each_combo:\n",
    "                     dict1[province] = each_combo\n",
    "print(dict1)"
   ]
  },
  {
   "cell_type": "code",
   "execution_count": 67,
   "metadata": {},
   "outputs": [],
   "source": [
    "purchases_nested = {\"Customer_Orders\":\n",
    "                    {\"Adam\":[\"shoes\", \"book\", \"shirt\"],\n",
    "                      \"Mary\":[\"book\", 'shampoo'], \n",
    "                      \"Joe\":[\"book\", \"shirt\", 'coat', 'shoes','kindle','etc']},\n",
    "                    \"Delivery_Schedule\":{\"Adam\":\"Monday\", \"Mary\":\"Tuesday\",'Joe':'Wednesday'}}"
   ]
  },
  {
   "cell_type": "code",
   "execution_count": 69,
   "metadata": {},
   "outputs": [
    {
     "name": "stdout",
     "output_type": "stream",
     "text": [
      "No of books purchased 1\n",
      "No of shirts purchased 1\n",
      "No of books purchased 2\n",
      "No of books purchased 3\n",
      "No of shirts purchased 2\n"
     ]
    }
   ],
   "source": [
    "# let's count the number of people who bought a book\n",
    "\n",
    "counter_book = 0\n",
    "counter_shirt = 0\n",
    "for a, b in purchases_nested['Customer_Orders'].items():\n",
    "    if 'book' in b:\n",
    "        counter_book += 1\n",
    "        print(\"No of books purchased\",counter_book)\n",
    "    if 'shirt' in b:\n",
    "        counter_shirt += 1\n",
    "        print(\"No of shirts purchased\", counter_shirt)\n",
    "\n"
   ]
  },
  {
   "cell_type": "code",
   "execution_count": 71,
   "metadata": {},
   "outputs": [
    {
     "name": "stdout",
     "output_type": "stream",
     "text": [
      "['shoes', 'book', 'shirt']\n",
      "1\n",
      "1\n",
      "1\n",
      "['book', 'shampoo']\n",
      "2\n",
      "2\n",
      "['book', 'shirt', 'coat', 'shoes', 'kindle', 'etc']\n",
      "3\n",
      "2\n",
      "6\n"
     ]
    }
   ],
   "source": [
    "# let's count the number of people who bought a book\n",
    "\n",
    "counter_book = 0\n",
    "counter_shirt = 0\n",
    "everything_else = 0\n",
    "\n",
    "for a, b in purchases_nested['Customer_Orders'].items():\n",
    "    print(b)\n",
    "    if 'book' in b:\n",
    "        counter_book += 1\n",
    "        print(counter_book)\n",
    "    \n",
    "    if 'shirt' in b:\n",
    "        counter_shirt +=1\n",
    "        print(counter_shirt)\n",
    "    everything_else += len(b)\n",
    "    print(everything_else - counter_book - counter_shirt)"
   ]
  },
  {
   "cell_type": "code",
   "execution_count": 72,
   "metadata": {},
   "outputs": [],
   "source": [
    "purchases_jan = {'Customer_Orders': {'Adam': ['shoes', 'apples', 'shirt'],\n",
    "  'Mary': ['book', 'conditioner'],\n",
    "  'Joe': ['book', 'socks', 'coat', 'shoes', 'kindle', 'etc'],\n",
    "  'Anm': ['bag', 'coat', 'bananas']},\n",
    " 'Delivery_Schedule': {'Adam': 'Monday',\n",
    "  'Mary': 'Tuesday',\n",
    "  'Joe': 'Wednesday',\n",
    "  'Anm': {'bag': 'Thursday', 'socks': 'friday'}}}\n"
   ]
  },
  {
   "cell_type": "code",
   "execution_count": 73,
   "metadata": {},
   "outputs": [],
   "source": [
    "purchases_feb = {'Customer_Orders': {'Adam': ['shoes', 'apples', 'book', 'computer'],\n",
    "  'Mary': ['book', 'conditioner', 'shirt'],\n",
    "  'Joe': ['book', 'socks', 'coat', 'shoes', 'kindle', 'computer mouse'],\n",
    "  'Anm': ['bag', 'coat', 'bananas', 'apples']},\n",
    " 'Delivery_Schedule': {'Adam': 'Monday',\n",
    "  'Mary': 'Tuesday',\n",
    "  'Joe': 'Wednesday',\n",
    "  'Anm': {'bag': 'Thursday', 'socks': 'friday'}}}"
   ]
  },
  {
   "cell_type": "code",
   "execution_count": 74,
   "metadata": {},
   "outputs": [],
   "source": [
    "# the purpose of custom functions is to store repetitive code in a custom function, so execution is faster and writing the code is more efficient\n",
    "def book_and_shirt_counter(x):\n",
    "    counter_book = 0\n",
    "    counter_shirt = 0\n",
    "    everything_else = 0\n",
    "\n",
    "    for a, b in x['Customer_Orders'].items():\n",
    "        if 'book' in b:\n",
    "            counter_book += 1\n",
    "    \n",
    "        if 'shirt' in b:\n",
    "            counter_shirt +=1\n",
    "        everything_else += len(b)\n",
    "    print('Total_Shirts: ', counter_shirt)\n",
    "    print('Total_Books: ', counter_book)        \n",
    "    print('Everything_else: ', everything_else - counter_book - counter_shirt)"
   ]
  },
  {
   "cell_type": "code",
   "execution_count": 75,
   "metadata": {},
   "outputs": [
    {
     "name": "stdout",
     "output_type": "stream",
     "text": [
      "Total_Shirts:  1\n",
      "Total_Books:  2\n",
      "Everything_else:  11\n"
     ]
    }
   ],
   "source": [
    "book_and_shirt_counter(purchases_jan)"
   ]
  },
  {
   "cell_type": "code",
   "execution_count": 78,
   "metadata": {},
   "outputs": [
    {
     "data": {
      "text/plain": [
       "'4'"
      ]
     },
     "execution_count": 78,
     "metadata": {},
     "output_type": "execute_result"
    }
   ],
   "source": [
    "# find median value in a list\n",
    "my_list = list(input(\"Enter your elements: \"))\n",
    "def median(x):\n",
    "    x.sort()\n",
    "    if len(my_list) % 2 == 0:\n",
    "        first_position = len(my_list)//2\n",
    "        second_position = (len(my_list)//2)-1\n",
    "        median = (x[first_position]+x[second_position])/2\n",
    "    else:\n",
    "        median = x[len(my_list)//2]\n",
    "    return median\n",
    "median(my_list)"
   ]
  },
  {
   "cell_type": "code",
   "execution_count": 76,
   "metadata": {},
   "outputs": [
    {
     "data": {
      "text/plain": [
       "14"
      ]
     },
     "execution_count": 76,
     "metadata": {},
     "output_type": "execute_result"
    }
   ],
   "source": [
    "def find_median(x): \n",
    "    x.sort() # in place sorting of the list\n",
    "    list_length = len(x)\n",
    "    if list_length % 2 == 0: # even list\n",
    "        first_position = list_length // 2\n",
    "        second_position = (list_length // 2)-1\n",
    "        median = (x[first_position] + x[second_position]) / 2\n",
    "\n",
    "    else: # odd numbered list\n",
    "        median = x[list_length // 2]\n",
    "    \n",
    "    return median\n",
    "random_list = [15, 58, 2, 35, 14, 7, 9, 150, 28, 4]\n",
    "find_median(random_list)\n",
    "odd_list = [15, 58, 2, 35, 14, 7, 9, 150, 4]\n",
    "find_median(odd_list)"
   ]
  }
 ],
 "metadata": {
  "kernelspec": {
   "display_name": "Python 3",
   "language": "python",
   "name": "python3"
  },
  "language_info": {
   "codemirror_mode": {
    "name": "ipython",
    "version": 3
   },
   "file_extension": ".py",
   "mimetype": "text/x-python",
   "name": "python",
   "nbconvert_exporter": "python",
   "pygments_lexer": "ipython3",
   "version": "3.10.4"
  }
 },
 "nbformat": 4,
 "nbformat_minor": 2
}
