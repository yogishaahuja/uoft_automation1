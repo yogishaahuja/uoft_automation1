{
 "cells": [
  {
   "cell_type": "markdown",
   "metadata": {},
   "source": [
    "Defining Python classes"
   ]
  },
  {
   "cell_type": "code",
   "execution_count": 1,
   "metadata": {},
   "outputs": [],
   "source": [
    "class Dog:\n",
    "    def __init__(self, name, age):\n",
    "        self.name = name\n",
    "        self.age = age\n",
    "\n",
    "    def speak(self):\n",
    "        return f\"{self.name} say woof!\""
   ]
  },
  {
   "cell_type": "code",
   "execution_count": 2,
   "metadata": {},
   "outputs": [],
   "source": [
    "buddy = Dog(\"Buddy\", 4)"
   ]
  },
  {
   "cell_type": "code",
   "execution_count": 3,
   "metadata": {},
   "outputs": [
    {
     "data": {
      "text/plain": [
       "'Buddy'"
      ]
     },
     "execution_count": 3,
     "metadata": {},
     "output_type": "execute_result"
    }
   ],
   "source": [
    "buddy.name"
   ]
  },
  {
   "cell_type": "code",
   "execution_count": 4,
   "metadata": {},
   "outputs": [
    {
     "data": {
      "text/plain": [
       "4"
      ]
     },
     "execution_count": 4,
     "metadata": {},
     "output_type": "execute_result"
    }
   ],
   "source": [
    "buddy.age"
   ]
  },
  {
   "cell_type": "code",
   "execution_count": 5,
   "metadata": {},
   "outputs": [
    {
     "data": {
      "text/plain": [
       "'Buddy say woof!'"
      ]
     },
     "execution_count": 5,
     "metadata": {},
     "output_type": "execute_result"
    }
   ],
   "source": [
    "buddy.speak()"
   ]
  },
  {
   "cell_type": "code",
   "execution_count": 6,
   "metadata": {},
   "outputs": [
    {
     "data": {
      "text/plain": [
       "'Riddick say wooooo'"
      ]
     },
     "execution_count": 6,
     "metadata": {},
     "output_type": "execute_result"
    }
   ],
   "source": [
    "class Husky(Dog):\n",
    "    def speak(self):\n",
    "        return f\"{self.name} say wooooo\"\n",
    "my_husky = Husky(\"Riddick\", 10)\n",
    "my_husky.speak()"
   ]
  },
  {
   "cell_type": "markdown",
   "metadata": {},
   "source": [
    "File handling"
   ]
  },
  {
   "cell_type": "code",
   "execution_count": 7,
   "metadata": {},
   "outputs": [],
   "source": [
    "with open('/Users/yahuja/Desktop/UofTAutomation/example.txt', 'w') as f:\n",
    "    f.write('Hello')"
   ]
  },
  {
   "cell_type": "code",
   "execution_count": 9,
   "metadata": {},
   "outputs": [],
   "source": [
    "with open('/Users/yahuja/Desktop/UofTAutomation/example.txt', 'a') as f:\n",
    "    f.write('\\nHow are you')"
   ]
  },
  {
   "cell_type": "code",
   "execution_count": 10,
   "metadata": {},
   "outputs": [],
   "source": [
    "with open('/Users/yahuja/Desktop/UofTAutomation/example.txt', 'a') as f:\n",
    "    f.write('\\nI am fine')"
   ]
  },
  {
   "cell_type": "code",
   "execution_count": 12,
   "metadata": {},
   "outputs": [
    {
     "name": "stdout",
     "output_type": "stream",
     "text": [
      "HelloHow are you\n",
      "How are you\n",
      "I am fine\n"
     ]
    }
   ],
   "source": [
    "with open('/Users/yahuja/Desktop/UofTAutomation/example.txt', 'r') as f:\n",
    "    content = f.read()\n",
    "    print(content)"
   ]
  },
  {
   "cell_type": "code",
   "execution_count": 8,
   "metadata": {},
   "outputs": [],
   "source": [
    "import csv"
   ]
  },
  {
   "cell_type": "code",
   "execution_count": 14,
   "metadata": {},
   "outputs": [],
   "source": [
    "customers = [['ID','Name','Email'], ['1001','John Doe','john@email.com'],['1002','Jane Doe', 'jane@email.com']]"
   ]
  },
  {
   "cell_type": "code",
   "execution_count": 15,
   "metadata": {},
   "outputs": [],
   "source": [
    "with open('/Users/yahuja/Desktop/UofTAutomation/customers.csv', 'w',newline ='') as f:\n",
    "    writer = csv.writer(f)\n",
    "    writer.writerows(customers)"
   ]
  },
  {
   "cell_type": "code",
   "execution_count": 16,
   "metadata": {},
   "outputs": [
    {
     "name": "stdout",
     "output_type": "stream",
     "text": [
      "ID, Name, Email\n",
      "1001, John Doe, john@email.com\n",
      "1002, Jane Doe, jane@email.com\n"
     ]
    }
   ],
   "source": [
    "with open('/Users/yahuja/Desktop/UofTAutomation/customers.csv','r') as f:\n",
    "    reader = csv.reader(f)\n",
    "    for row in reader:\n",
    "        print(', '.join(row))"
   ]
  },
  {
   "cell_type": "markdown",
   "metadata": {},
   "source": [
    "End to end example of classes and file manipulation"
   ]
  },
  {
   "cell_type": "code",
   "execution_count": 9,
   "metadata": {},
   "outputs": [],
   "source": [
    "class Product:\n",
    "    def __init__(self, product_id, name, quantity, unit_price):\n",
    "        self.product_id = product_id\n",
    "        self.name = name\n",
    "        self.quantity = quantity\n",
    "        self.unit_price = unit_price\n",
    "    \n",
    "    def add_inventory(self, amount):\n",
    "        self.quantity += amount\n",
    "\n",
    "    def remove_inventory(self, amount):\n",
    "        if amount <= self.quantity:\n",
    "            self.quantity -= amount\n",
    "        else:\n",
    "            print(f\"Not enough stock of {self.name}\")\n",
    "    \n",
    "    def inventory_value(self):\n",
    "        return self.quantity * self.unit_price\n",
    "    \n",
    "    def quantity_remaining(self):\n",
    "        return self.quantity"
   ]
  },
  {
   "cell_type": "code",
   "execution_count": 10,
   "metadata": {},
   "outputs": [],
   "source": [
    "bananas = Product(1001, \"Bananas\", 1000, 0.10)"
   ]
  },
  {
   "cell_type": "code",
   "execution_count": 11,
   "metadata": {},
   "outputs": [],
   "source": [
    "bananas.add_inventory(50)"
   ]
  },
  {
   "cell_type": "code",
   "execution_count": 21,
   "metadata": {},
   "outputs": [
    {
     "data": {
      "text/plain": [
       "105.0"
      ]
     },
     "execution_count": 21,
     "metadata": {},
     "output_type": "execute_result"
    }
   ],
   "source": [
    "bananas.inventory_value()"
   ]
  },
  {
   "cell_type": "code",
   "execution_count": 17,
   "metadata": {},
   "outputs": [],
   "source": [
    "inventory_file = [['product_id', 'name', 'quantity', 'unit_price']]\n",
    "with open('/Users/yahuja/Desktop/UofTAutomation/inventory.csv','w', newline='') as f:\n",
    "    writer = csv.writer(f)\n",
    "    writer.writerows(inventory_file)"
   ]
  },
  {
   "cell_type": "code",
   "execution_count": 18,
   "metadata": {},
   "outputs": [],
   "source": [
    "inventory_file = [['product_id', 'name', 'quantity', 'unit_price'],\n",
    "                  ['P001','Laptop',10,1000],\n",
    "                  ['P001','Smartphone',100,1500],\n",
    "                  ['P003','Tablet',15,500]]\n",
    "with open('/Users/yahuja/Desktop/UofTAutomation//inventory.csv','w', newline='') as f:\n",
    "    writer = csv.writer(f)\n",
    "    writer.writerows(inventory_file)"
   ]
  },
  {
   "cell_type": "code",
   "execution_count": 19,
   "metadata": {},
   "outputs": [],
   "source": [
    "def read_inventory(file_name):\n",
    "    global products # Make products global variable so we can access it\n",
    "    products = []\n",
    "    with open(file_name,'r') as f:\n",
    "        reader = csv.reader(f)\n",
    "        next(reader) # Skip the first row, which is our header\n",
    "        for row in reader:\n",
    "            product_id, name, quantity, unit_price = row[0], row[1], row[2], row[3]\n",
    "            products.append(Product(product_id, name, int(quantity), float(unit_price)))\n",
    "    return products   "
   ]
  },
  {
   "cell_type": "code",
   "execution_count": 23,
   "metadata": {},
   "outputs": [
    {
     "data": {
      "text/plain": [
       "[<__main__.Product at 0x106969510>,\n",
       " <__main__.Product at 0x1068cd570>,\n",
       " <__main__.Product at 0x1068a36d0>]"
      ]
     },
     "execution_count": 23,
     "metadata": {},
     "output_type": "execute_result"
    }
   ],
   "source": [
    "# Read file and add products to a list\n",
    "file_name = '/Users/yahuja/Desktop/UofTAutomation/inventory.csv'\n",
    "read_inventory(file_name)"
   ]
  },
  {
   "cell_type": "code",
   "execution_count": 24,
   "metadata": {},
   "outputs": [
    {
     "name": "stdout",
     "output_type": "stream",
     "text": [
      "Laptop\n",
      "10000.0\n"
     ]
    }
   ],
   "source": [
    "# Access each product, and access attributes or methods based on the class\n",
    "print(products[0].name)\n",
    "print(products[0].inventory_value())"
   ]
  },
  {
   "cell_type": "code",
   "execution_count": 25,
   "metadata": {},
   "outputs": [],
   "source": [
    "products[0].add_inventory(100)"
   ]
  },
  {
   "cell_type": "code",
   "execution_count": 26,
   "metadata": {},
   "outputs": [],
   "source": [
    "def write_inventory(file_name, products):\n",
    "    with open(file_name, 'w', newline='') as file:\n",
    "        writer = csv.writer(file)\n",
    "        writer.writerow([\"product_id\", \"name\", \"quantity\", \"unit_price\"])  # Write header\n",
    "        for product in products:\n",
    "            # Convert each Product object to a list of attributes before writing\n",
    "            writer.writerow([product.product_id, product.name, product.quantity, product.unit_price])\n",
    "\n",
    "\n",
    "# Write updated products back to CSV\n",
    "write_inventory(file_name, products)"
   ]
  }
 ],
 "metadata": {
  "kernelspec": {
   "display_name": "Python 3",
   "language": "python",
   "name": "python3"
  },
  "language_info": {
   "codemirror_mode": {
    "name": "ipython",
    "version": 3
   },
   "file_extension": ".py",
   "mimetype": "text/x-python",
   "name": "python",
   "nbconvert_exporter": "python",
   "pygments_lexer": "ipython3",
   "version": "3.10.4"
  }
 },
 "nbformat": 4,
 "nbformat_minor": 2
}
