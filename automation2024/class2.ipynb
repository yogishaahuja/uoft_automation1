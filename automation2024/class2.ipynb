{
 "cells": [
  {
   "cell_type": "code",
   "execution_count": null,
   "metadata": {},
   "outputs": [],
   "source": [
    "# Agenda for today\n",
    "# sequential objects\n",
    "# slicing of sequential objects and navigation by position"
   ]
  },
  {
   "cell_type": "code",
   "execution_count": 7,
   "metadata": {},
   "outputs": [],
   "source": [
    "# String\n",
    "\n",
    "variable = 'x'\n",
    "variable = 'multiple letters'"
   ]
  },
  {
   "cell_type": "code",
   "execution_count": 13,
   "metadata": {},
   "outputs": [
    {
     "data": {
      "text/plain": [
       "'m'"
      ]
     },
     "execution_count": 13,
     "metadata": {},
     "output_type": "execute_result"
    }
   ],
   "source": [
    "# Using slicing to manipulate strings\n",
    "# Python begins counting at position 0\n",
    "# For slicing we always use square brackets []\n",
    "variable[0]"
   ]
  },
  {
   "cell_type": "code",
   "execution_count": 14,
   "metadata": {},
   "outputs": [
    {
     "data": {
      "text/plain": [
       "'mul'"
      ]
     },
     "execution_count": 14,
     "metadata": {},
     "output_type": "execute_result"
    }
   ],
   "source": [
    "# to return the first 3 values of the string, we can start at position 0 and slice UP TO, but NOT INCLUDING position 3\n",
    "# the position on the right hand of the colon symbol (:) is exclusive\n",
    "variable[0:3]"
   ]
  },
  {
   "cell_type": "code",
   "execution_count": 15,
   "metadata": {},
   "outputs": [
    {
     "data": {
      "text/plain": [
       "'s'"
      ]
     },
     "execution_count": 15,
     "metadata": {},
     "output_type": "execute_result"
    }
   ],
   "source": [
    "# negative positions allows us to slice from the ending point\n",
    "variable[-1]"
   ]
  },
  {
   "cell_type": "code",
   "execution_count": 16,
   "metadata": {},
   "outputs": [
    {
     "data": {
      "text/plain": [
       "'er'"
      ]
     },
     "execution_count": 16,
     "metadata": {},
     "output_type": "execute_result"
    }
   ],
   "source": [
    "# when slicing from the end, we start with the left-most position; since the range is UP TO, but NOT INCLUDING, the last value is excluded\n",
    "variable[-3:-1]"
   ]
  },
  {
   "cell_type": "code",
   "execution_count": 17,
   "metadata": {},
   "outputs": [
    {
     "data": {
      "text/plain": [
       "'ers'"
      ]
     },
     "execution_count": 17,
     "metadata": {},
     "output_type": "execute_result"
    }
   ],
   "source": [
    "# you can also slice by giving a starting point with a colon (:), which will return everything until the end\n",
    "# in this example we are returning everything starting at position -3 until the end\n",
    "variable[-3:]"
   ]
  },
  {
   "cell_type": "code",
   "execution_count": 18,
   "metadata": {},
   "outputs": [
    {
     "data": {
      "text/plain": [
       "'multip'"
      ]
     },
     "execution_count": 18,
     "metadata": {},
     "output_type": "execute_result"
    }
   ],
   "source": [
    "# We can also do the opposite; if you don't specify a starting point, the slice will start at the beginning\n",
    "variable[:6]"
   ]
  },
  {
   "cell_type": "code",
   "execution_count": 20,
   "metadata": {},
   "outputs": [],
   "source": [
    "area = \"ON\"\n",
    "product_name = \"prod_345\"\n",
    "# Let's say we want to concatenate two strings\n",
    "product_code = area + product_name"
   ]
  },
  {
   "cell_type": "code",
   "execution_count": 21,
   "metadata": {},
   "outputs": [
    {
     "data": {
      "text/plain": [
       "'ON_prod_345'"
      ]
     },
     "execution_count": 21,
     "metadata": {},
     "output_type": "execute_result"
    }
   ],
   "source": [
    "product_code\n",
    "product_code = area + \"_\" + product_name\n",
    "product_code\n"
   ]
  },
  {
   "cell_type": "code",
   "execution_count": 24,
   "metadata": {},
   "outputs": [
    {
     "data": {
      "text/plain": [
       "'BC Prod 75'"
      ]
     },
     "execution_count": 24,
     "metadata": {},
     "output_type": "execute_result"
    }
   ],
   "source": [
    "product = \"ON Prod 75\"\n",
    "updated_product = product.replace(\"ON\",\"BC\")\n",
    "updated_product"
   ]
  },
  {
   "cell_type": "code",
   "execution_count": 25,
   "metadata": {},
   "outputs": [],
   "source": [
    "list_of_provinces = \"AB, ON, MB, SK, BC, PEI, NB, NS, QB\"\n",
    "# clean up the province list\n",
    "no_comma_list = list_of_provinces.replace(\",\",\"\")"
   ]
  },
  {
   "cell_type": "code",
   "execution_count": 29,
   "metadata": {},
   "outputs": [
    {
     "data": {
      "text/plain": [
       "['AB', 'ON', 'MB', 'SK', 'BC', 'PEI', 'NB', 'NS', 'QB']"
      ]
     },
     "execution_count": 29,
     "metadata": {},
     "output_type": "execute_result"
    }
   ],
   "source": [
    "# Now we can use the split function to split the string into a LIST of strings representing each province\n",
    "list_of_provinces2 = no_comma_list.split(\" \")\n",
    "list_of_provinces2"
   ]
  },
  {
   "cell_type": "code",
   "execution_count": 30,
   "metadata": {},
   "outputs": [
    {
     "data": {
      "text/plain": [
       "['AB', ' ON', ' BC']"
      ]
     },
     "execution_count": 30,
     "metadata": {},
     "output_type": "execute_result"
    }
   ],
   "source": [
    "# in a more complex scenario, you may need to use replace to clean up the string before you can split\n",
    "complex_string = \"AB, &london, ON, %special, BC\"\n",
    "complex_string = complex_string.replace(\"&london, \",\"\")\n",
    "complex_string = complex_string.replace(\"%special, \",\"\")\n",
    "complex_string.split(\",\")"
   ]
  },
  {
   "cell_type": "code",
   "execution_count": 31,
   "metadata": {},
   "outputs": [],
   "source": [
    "# remove leading and lagging whitespace\n",
    "product_code = \"   ON product 123 new    \""
   ]
  },
  {
   "cell_type": "code",
   "execution_count": 32,
   "metadata": {},
   "outputs": [
    {
     "data": {
      "text/plain": [
       "'ON product 123 new'"
      ]
     },
     "execution_count": 32,
     "metadata": {},
     "output_type": "execute_result"
    }
   ],
   "source": [
    "# the strip function will remove that\n",
    "product_code.strip()"
   ]
  },
  {
   "cell_type": "code",
   "execution_count": 33,
   "metadata": {},
   "outputs": [
    {
     "data": {
      "text/plain": [
       "'ONproduct123new'"
      ]
     },
     "execution_count": 33,
     "metadata": {},
     "output_type": "execute_result"
    }
   ],
   "source": [
    "product_code=product_code.strip()\n",
    "product_code=product_code.replace(\" \", \"\")\n",
    "product_code"
   ]
  },
  {
   "cell_type": "code",
   "execution_count": 42,
   "metadata": {},
   "outputs": [],
   "source": [
    "# some changes are INPLACE changes (meaning they will permanently alter your object)\n",
    "# others are NOT inplace changes, meaning the alteration is temporary and if you want to save it, you need to overwrite your object\n",
    "\n",
    "product_code_orig = \"ON_123_45_product_17\"\n",
    "product_code_second = \"123_456_78_BC\""
   ]
  },
  {
   "cell_type": "code",
   "execution_count": 37,
   "metadata": {},
   "outputs": [
    {
     "data": {
      "text/plain": [
       "'ON'"
      ]
     },
     "execution_count": 37,
     "metadata": {},
     "output_type": "execute_result"
    }
   ],
   "source": [
    "product_code_orig = \"ON_123_45_product_17\"\n",
    "# In this example we are combining the replace function with a slicing operation\n",
    "product_code_orig.replace(\"_\",\" \")[0:2]"
   ]
  },
  {
   "cell_type": "code",
   "execution_count": 43,
   "metadata": {},
   "outputs": [
    {
     "name": "stdout",
     "output_type": "stream",
     "text": [
      "ON\n",
      "BC\n"
     ]
    }
   ],
   "source": [
    "# instead, I can embed the find() function in the slicing operation\n",
    "# we need to make BOTH sides of slice dynamic\n",
    "print(product_code_orig[product_code_orig.find(\"ON\"):product_code_orig.find(\"ON\")+2])\n",
    "print(product_code_second[product_code_second.find(\"BC\"):product_code_second.find(\"BC\")+2])"
   ]
  },
  {
   "cell_type": "code",
   "execution_count": 38,
   "metadata": {},
   "outputs": [
    {
     "data": {
      "text/plain": [
       "True"
      ]
     },
     "execution_count": 38,
     "metadata": {},
     "output_type": "execute_result"
    }
   ],
   "source": [
    "# check the string type\n",
    "text = \"12546\"\n",
    "text.isdigit()\n",
    "text2 = \"edr234\"\n",
    "text2.isalnum()"
   ]
  },
  {
   "cell_type": "code",
   "execution_count": 39,
   "metadata": {},
   "outputs": [],
   "source": [
    "# since python is case sensitive, having the same word in different cases can cause challenges in cleaning\n",
    "# best practice is to make everything lower, upper, or title case so all programs will work\n",
    "string1 = \"ontario\"\n",
    "string2 = \"Ontario\""
   ]
  },
  {
   "cell_type": "code",
   "execution_count": 40,
   "metadata": {},
   "outputs": [
    {
     "data": {
      "text/plain": [
       "False"
      ]
     },
     "execution_count": 40,
     "metadata": {},
     "output_type": "execute_result"
    }
   ],
   "source": [
    "# since the case is different in each one, these two words are not considered the same\n",
    "string1 == string2"
   ]
  },
  {
   "cell_type": "code",
   "execution_count": 41,
   "metadata": {},
   "outputs": [
    {
     "data": {
      "text/plain": [
       "True"
      ]
     },
     "execution_count": 41,
     "metadata": {},
     "output_type": "execute_result"
    }
   ],
   "source": [
    "# if we make them both lowercase, they will be the same\n",
    "string1.lower() == string2.lower()"
   ]
  }
 ],
 "metadata": {
  "kernelspec": {
   "display_name": "Python 3",
   "language": "python",
   "name": "python3"
  },
  "language_info": {
   "codemirror_mode": {
    "name": "ipython",
    "version": 3
   },
   "file_extension": ".py",
   "mimetype": "text/x-python",
   "name": "python",
   "nbconvert_exporter": "python",
   "pygments_lexer": "ipython3",
   "version": "3.10.4"
  }
 },
 "nbformat": 4,
 "nbformat_minor": 2
}
