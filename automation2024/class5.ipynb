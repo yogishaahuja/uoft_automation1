{
 "cells": [
  {
   "cell_type": "code",
   "execution_count": 2,
   "metadata": {},
   "outputs": [],
   "source": [
    "import csv"
   ]
  },
  {
   "cell_type": "code",
   "execution_count": 21,
   "metadata": {},
   "outputs": [],
   "source": [
    "# Create class\n",
    "class Shipments:\n",
    "    def __init__(self, date_received, ingredient, supplier, num_boxes, units_per_box, sample_count1\\\n",
    "            , sample_count2, sample_count3, rej_1, rej_2, rej_3):\n",
    "        self.date_received = date_received\n",
    "        self.ingredient = ingredient\n",
    "        self.supplier = supplier\n",
    "        self.num_boxes = int(num_boxes)\n",
    "        self.units_per_box = int(units_per_box)\n",
    "        self.sample_count1 = int(sample_count1)\n",
    "        self.sample_count2 = int(sample_count2)\n",
    "        self.sample_count3 = int(sample_count3)\n",
    "        self.rej_1 = int(rej_1)\n",
    "        self.rej_2 = int(rej_2)\n",
    "        self.rej_3 = int(rej_3)\n",
    "        self.total_rejections = (self.rej_1 + self.rej_2 + self.rej_3)/(self.units_per_box*self.num_boxes)\n",
    "        self.all_data = (self.date_received, self.ingredient, self.supplier, self.num_boxes)"
   ]
  },
  {
   "cell_type": "code",
   "execution_count": 6,
   "metadata": {},
   "outputs": [],
   "source": [
    "def read_shipments(file_name):\n",
    "    global shipments # Make shipments global variable so we can access it\n",
    "    shipments = []\n",
    "    with open(file_name,'r') as f:\n",
    "        reader = csv.reader(f)\n",
    "        next(reader) # Skip the first row, which is our header\n",
    "        for row in reader:\n",
    "            date_received, ingredient, supplier, num_boxes, units_per_box, sample_count1\\\n",
    "            , sample_count2, sample_count3, rej_1, rej_2, rej_3 = row[0], row[1], row[2], row[3], row[4],row[5],row[6],row[7],row[8],row[9],row[10]\n",
    "    shipments.append(Shipments(date_received, ingredient, supplier, num_boxes, units_per_box, sample_count1\\\n",
    "            , sample_count2, sample_count3, rej_1, rej_2, rej_3))\n",
    "    return shipments\n"
   ]
  },
  {
   "cell_type": "code",
   "execution_count": 24,
   "metadata": {},
   "outputs": [
    {
     "data": {
      "text/plain": [
       "[<__main__.Shipments at 0x105fb27a0>]"
      ]
     },
     "execution_count": 24,
     "metadata": {},
     "output_type": "execute_result"
    }
   ],
   "source": [
    "read_shipments('/Users/yahuja/Desktop/UofTAutomation/3967_Module 5_Data File_rejections.csv')\n"
   ]
  },
  {
   "cell_type": "code",
   "execution_count": 48,
   "metadata": {},
   "outputs": [
    {
     "data": {
      "text/plain": [
       "0.037142857142857144"
      ]
     },
     "execution_count": 48,
     "metadata": {},
     "output_type": "execute_result"
    }
   ],
   "source": [
    "shipments[0].total_rejections"
   ]
  },
  {
   "cell_type": "code",
   "execution_count": 47,
   "metadata": {},
   "outputs": [
    {
     "name": "stdout",
     "output_type": "stream",
     "text": [
      "date_received, ingredient_name, supplier, number_of_cases, units_per_case, sample_case_count1, sample_case_count2, sample_case_count3, sample_case_rejections1, sample_case_rejections2, sample_case_rejections3\n",
      "10-Jun-21, tomato_cherry, ABC Vegetables, 10, 100, 95, 100, 110, 5, 3, 5\n",
      "10-Jun-21, tomato_cherry, Tomato Land, 20, 500, 440, 480, 500, 10, 0, 25\n",
      "10-Jun-21, tomato_vine, Tomato Land, 25, 100, 100, 100, 100, 0, 0, 0\n",
      "10-Jun-21, tomato_vine, ABC Vegetables, 10, 100, 100, 98, 101, 0, 0, 0\n",
      "10-Jun-21, cucumber_english, ABC Vegetables, 14, 50, 51, 50, 51, 10, 0, 0\n",
      "10-Jun-21, cucumber_pickle, Dill Farms, 15, 50, 50, 50, 50, 0, 0, 0\n",
      "11-Jun-21, bananas_organic, Banana Farms Inc, 24, 40, 40, 40, 40, 0, 0, 0\n",
      "11-Jun-21, bananas_organic, ABC Vegetables, 26, 30, 30, 28, 29, 0, 3, 0\n",
      "11-Jun-21, bananas_organic, Banana Farms Inc, 20, 30, 30, 30, 30, 0, 0, 0\n",
      "11-Jun-21, apples_gala, Orchard Inc, 20, 90, 90, 94, 90, 1, 4, 5\n",
      "11-Jun-21, apples_gala, Orchard Inc, 5, 90, 90, 90, 90, 0, 0, 3\n",
      "11-Jun-21, apples_gs, Orchard Inc, 1, 80, 80, 82, 80, 2, 0, 5\n",
      "13-Jun-21, apples_gala, Apple Farm, 20, 90, 90, 90, 90, 0, 0, 0\n",
      "13-Jun-21, oranges_california, Cali Fruits, 20, 90, 90, 90, 90, 4, 0, 0\n",
      "13-Jun-21, oranges_california, ABC Vegetables, 40, 100, 100, 102, 101, 0, 0, 3\n",
      "13-Jun-21, grapes_red, Cali Fruits, 20, 35, 30, 35, 30, 4, 0, 0\n",
      "13-Jun-21, grapes_green, Cali Fruits, 10, 35, 35, 35, 30, 5, 5, 3\n"
     ]
    }
   ],
   "source": [
    "with open('/Users/yahuja/Desktop/UofTAutomation/3967_Module 5_Data File_rejections.csv','r') as f:\n",
    "    reader = csv.reader(f)\n",
    "    for row in reader:\n",
    "        print(', '.join(row))"
   ]
  },
  {
   "cell_type": "code",
   "execution_count": 46,
   "metadata": {},
   "outputs": [
    {
     "data": {
      "text/plain": [
       "('13-Jun-21', 'grapes_green', 'Cali Fruits', 10)"
      ]
     },
     "execution_count": 46,
     "metadata": {},
     "output_type": "execute_result"
    }
   ],
   "source": [
    "shipments[0].all_data"
   ]
  },
  {
   "cell_type": "code",
   "execution_count": 43,
   "metadata": {},
   "outputs": [],
   "source": [
    "consolidated_rejections = {}\n",
    "\n",
    "for i in shipments:\n",
    "    # create a unique key which captures the date + supplier\n",
    "    \n",
    "    if i.total_rejections > 0:\n",
    "        key = (i.date_received, i.supplier)\n",
    "\n",
    "        if key not in consolidated_rejections:\n",
    "            consolidated_rejections[key] = []\n",
    "    \n",
    "        consolidated_rejections[key].append((i.ingredient, i.total_rejections))"
   ]
  },
  {
   "cell_type": "code",
   "execution_count": 44,
   "metadata": {},
   "outputs": [
    {
     "data": {
      "text/plain": [
       "{('13-Jun-21', 'Cali Fruits'): [('grapes_green', 0.037142857142857144)]}"
      ]
     },
     "execution_count": 44,
     "metadata": {},
     "output_type": "execute_result"
    }
   ],
   "source": [
    "consolidated_rejections"
   ]
  },
  {
   "cell_type": "code",
   "execution_count": 49,
   "metadata": {},
   "outputs": [],
   "source": [
    "# Write our files to send to suppliers\n",
    "output_folder = '/Users/yahuja/Desktop/UofTAutomation/Email_to_Suppliers'"
   ]
  },
  {
   "cell_type": "code",
   "execution_count": 53,
   "metadata": {},
   "outputs": [
    {
     "name": "stdout",
     "output_type": "stream",
     "text": [
      "written_file: /Users/yahuja/Desktop/UofTAutomation/Email_to_Suppliers/Cali_Fruits_13_Jun_21.txt\n"
     ]
    }
   ],
   "source": [
    "for (date,supplier),rejections in consolidated_rejections.items():\n",
    "    supplier_clean = supplier.replace(' ','_').replace('/','_')\n",
    "    date_clean = date.replace('-','_')\n",
    "\n",
    "    file_name = f\"{supplier_clean}_{date_clean}.txt\"\n",
    "    file_path = f\"{output_folder}/{file_name}\"\n",
    "\n",
    "    # add content of the file\n",
    "\n",
    "    summary_lines = [\n",
    "        f\"Summary of rejected products for {supplier} on {date}\\n\",\n",
    "        f\"{'Product Code':<20}{'Quantity Rejected':<20}\\n\",\n",
    "        f\"{'-'*40}\\n\"]+[\n",
    "            f\"{product_code:<20}{quantity_rejected:<20}\\n\" for product_code, quantity_rejected in rejections\n",
    "        ]\n",
    "    \n",
    "    with open(file_path,'w') as f:\n",
    "        f.writelines(summary_lines)\n",
    "\n",
    "    print(f\"written_file: {file_path}\")"
   ]
  }
 ],
 "metadata": {
  "kernelspec": {
   "display_name": "Python 3",
   "language": "python",
   "name": "python3"
  },
  "language_info": {
   "codemirror_mode": {
    "name": "ipython",
    "version": 3
   },
   "file_extension": ".py",
   "mimetype": "text/x-python",
   "name": "python",
   "nbconvert_exporter": "python",
   "pygments_lexer": "ipython3",
   "version": "3.10.4"
  }
 },
 "nbformat": 4,
 "nbformat_minor": 2
}
