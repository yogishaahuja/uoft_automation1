{
 "cells": [
  {
   "cell_type": "code",
   "execution_count": 20,
   "metadata": {},
   "outputs": [
    {
     "name": "stdout",
     "output_type": "stream",
     "text": [
      "[1, 11]\n",
      "[3, 15, 18, 21, 24, 27, 33]\n"
     ]
    }
   ],
   "source": [
    "#Solution to question 1:\n",
    "#Program 1\n",
    "Test_list = [1,5,6,7,8,9,11]\n",
    "result = [Test_list[0],Test_list[6]]\n",
    "print(result)\n",
    "\n",
    "#Program 2\n",
    "Test_list = [x*3 for x in Test_list]\n",
    "print(Test_list)\n",
    "\n",
    "\n"
   ]
  },
  {
   "cell_type": "code",
   "execution_count": 22,
   "metadata": {},
   "outputs": [
    {
     "name": "stdout",
     "output_type": "stream",
     "text": [
      "[6, 12]\n"
     ]
    }
   ],
   "source": [
    "def List():\n",
    "    lst =[]\n",
    "    n = int(input(\"enter the number of elements: \"))\n",
    "    for i in range(0,n):\n",
    "        element = int(input(\"Enter your elements: \"))\n",
    "        lst.append(element)\n",
    "        for element in lst:\n",
    "            if element%3 ==0:\n",
    "                lst.sort()\n",
    "            else:\n",
    "                lst.remove(element)\n",
    "    return lst\n",
    "    \n",
    "print(List())"
   ]
  }
 ],
 "metadata": {
  "kernelspec": {
   "display_name": "Python 3",
   "language": "python",
   "name": "python3"
  },
  "language_info": {
   "codemirror_mode": {
    "name": "ipython",
    "version": 3
   },
   "file_extension": ".py",
   "mimetype": "text/x-python",
   "name": "python",
   "nbconvert_exporter": "python",
   "pygments_lexer": "ipython3",
   "version": "3.10.4"
  }
 },
 "nbformat": 4,
 "nbformat_minor": 2
}
